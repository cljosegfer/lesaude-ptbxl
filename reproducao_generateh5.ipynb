{
 "cells": [
  {
   "cell_type": "code",
   "execution_count": 1,
   "metadata": {},
   "outputs": [],
   "source": [
    "from ecgprep import preprocess, read_ecg\n",
    "import argparse\n",
    "import h5py\n",
    "import pandas as pd\n",
    "import tqdm\n",
    "import os\n",
    "import matplotlib.pyplot as plt"
   ]
  },
  {
   "cell_type": "code",
   "execution_count": 2,
   "metadata": {},
   "outputs": [],
   "source": [
    "input_file = 'RECORDS.txt'\n",
    "root_dir = 'ptb-xl-a-large-publicly-available-electrocardiography-dataset-1.0.1'\n",
    "out_file = 'ptbxl.h5'\n",
    "\n",
    "fmt = 'wfdb'\n",
    "\n",
    "new_freq = 400\n",
    "new_len = 4096\n",
    "scale = 2\n",
    "use_all_leads = True\n",
    "remove_baseline = False\n",
    "remove_powerline = None"
   ]
  },
  {
   "cell_type": "markdown",
   "metadata": {},
   "source": [
    "# before"
   ]
  },
  {
   "cell_type": "code",
   "execution_count": 3,
   "metadata": {},
   "outputs": [],
   "source": [
    "all_leads = ['DI', 'DII', 'DIII', 'AVR', 'AVL', 'AVF', 'V1', 'V2', 'V3', 'V4', 'V5', 'V6']"
   ]
  },
  {
   "cell_type": "code",
   "execution_count": 4,
   "metadata": {},
   "outputs": [],
   "source": [
    "files = pd.read_csv(input_file, header=None).values.flatten()\n",
    "folder = root_dir\n",
    "n = len(files)"
   ]
  },
  {
   "cell_type": "code",
   "execution_count": 5,
   "metadata": {},
   "outputs": [
    {
     "name": "stderr",
     "output_type": "stream",
     "text": [
      "  0%|          | 0/21837 [00:00<?, ?it/s]\n"
     ]
    },
    {
     "data": {
      "text/plain": [
       "(0, 'records500/00000/00001_hr')"
      ]
     },
     "execution_count": 5,
     "metadata": {},
     "output_type": "execute_result"
    }
   ],
   "source": [
    "for i, f in enumerate(tqdm.tqdm(files)):\n",
    "    break\n",
    "i, f"
   ]
  },
  {
   "cell_type": "code",
   "execution_count": 6,
   "metadata": {},
   "outputs": [
    {
     "data": {
      "text/plain": [
       "(array([[-0.115, -0.115, -0.115, ...,  0.21 ,  0.21 ,  0.21 ],\n",
       "        [-0.05 , -0.05 , -0.05 , ...,  0.205,  0.205,  0.205],\n",
       "        [ 0.065,  0.065,  0.065, ..., -0.005, -0.005, -0.005],\n",
       "        ...,\n",
       "        [-0.035, -0.035, -0.035, ...,  0.185,  0.185,  0.185],\n",
       "        [-0.035, -0.035, -0.035, ...,  0.17 ,  0.17 ,  0.17 ],\n",
       "        [-0.075, -0.075, -0.075, ...,  0.18 ,  0.18 ,  0.18 ]]),\n",
       " 500,\n",
       " ['I', 'II', 'III', 'AVR', 'AVL', 'AVF', 'V1', 'V2', 'V3', 'V4', 'V5', 'V6'])"
      ]
     },
     "execution_count": 6,
     "metadata": {},
     "output_type": "execute_result"
    }
   ],
   "source": [
    "ecg, sample_rate, leads = read_ecg.read_ecg(os.path.join(folder, f), format = fmt)\n",
    "ecg, sample_rate, leads"
   ]
  },
  {
   "cell_type": "code",
   "execution_count": 7,
   "metadata": {},
   "outputs": [
    {
     "data": {
      "text/plain": [
       "(array([[-0.20689032, -0.23780874, -0.22579928, ...,  0.        ,\n",
       "          0.        ,  0.        ],\n",
       "        [-0.08997755, -0.10338924, -0.09819476, ...,  0.        ,\n",
       "          0.        ,  0.        ],\n",
       "        [ 0.11691278,  0.1344195 ,  0.12760452, ...,  0.        ,\n",
       "          0.        ,  0.        ],\n",
       "        ...,\n",
       "        [-0.06298074, -0.07238441, -0.06871614, ...,  0.        ,\n",
       "          0.        ,  0.        ],\n",
       "        [-0.06302623, -0.07231847, -0.06882296, ...,  0.        ,\n",
       "          0.        ,  0.        ],\n",
       "        [-0.13503723, -0.15496579, -0.14746622, ...,  0.        ,\n",
       "          0.        ,  0.        ]]),\n",
       " 400,\n",
       " ['DI',\n",
       "  'DII',\n",
       "  'DIII',\n",
       "  'AVR',\n",
       "  'AVL',\n",
       "  'AVF',\n",
       "  'V1',\n",
       "  'V2',\n",
       "  'V3',\n",
       "  'V4',\n",
       "  'V5',\n",
       "  'V6'])"
      ]
     },
     "execution_count": 7,
     "metadata": {},
     "output_type": "execute_result"
    }
   ],
   "source": [
    "ecg_preprocessed, new_rate, new_leads = preprocess.preprocess_ecg(ecg, sample_rate, all_leads, # different lead names\n",
    "                                                                          new_freq=new_freq,\n",
    "                                                                          new_len=new_len,\n",
    "                                                                          scale=scale,\n",
    "                                                                          use_all_leads=use_all_leads,\n",
    "                                                                          remove_baseline=remove_baseline,\n",
    "                                                                          remove_powerline=remove_powerline)\n",
    "ecg_preprocessed, new_rate, new_leads"
   ]
  },
  {
   "cell_type": "code",
   "execution_count": 10,
   "metadata": {},
   "outputs": [],
   "source": [
    "h5f = h5py.File(out_file, 'w')\n",
    "x = None"
   ]
  },
  {
   "cell_type": "code",
   "execution_count": null,
   "metadata": {},
   "outputs": [],
   "source": [
    "for i, f in enumerate(tqdm.tqdm(files)):\n",
    "    ecg, sample_rate, leads = read_ecg.read_ecg(os.path.join(folder, f), format=fmt)\n",
    "    ecg_preprocessed, new_rate, new_leads = preprocess.preprocess_ecg(ecg, sample_rate, leads,\n",
    "                                                                            new_freq=new_freq,\n",
    "                                                                            new_len=new_len,\n",
    "                                                                            scale=scale,\n",
    "                                                                            use_all_leads=use_all_leads,\n",
    "                                                                            remove_baseline=remove_baseline,\n",
    "                                                                            remove_powerline=remove_powerline)\n",
    "    if x is None:\n",
    "        n_leads, n_samples = ecg_preprocessed.shape\n",
    "        x = h5f.create_dataset('tracings', (n, n_samples, n_leads), dtype='f8')\n",
    "        id = h5f.create_dataset('exam_id', (n,), dtype='i4')\n",
    "    x[i, :, :] = ecg_preprocessed.T\n",
    "    id[i] = int(f.split('/')[-1][:-3])"
   ]
  },
  {
   "cell_type": "code",
   "execution_count": 17,
   "metadata": {},
   "outputs": [
    {
     "data": {
      "text/plain": [
       "1"
      ]
     },
     "execution_count": 17,
     "metadata": {},
     "output_type": "execute_result"
    }
   ],
   "source": [
    "int(f.split('/')[-1][:-3])"
   ]
  },
  {
   "cell_type": "code",
   "execution_count": 19,
   "metadata": {},
   "outputs": [],
   "source": [
    "h5f.close()"
   ]
  },
  {
   "cell_type": "markdown",
   "metadata": {},
   "source": [
    "# after"
   ]
  },
  {
   "cell_type": "code",
   "execution_count": 9,
   "metadata": {},
   "outputs": [],
   "source": [
    "hdf5_file = h5py.File(out_file, \"r\")"
   ]
  },
  {
   "cell_type": "code",
   "execution_count": 10,
   "metadata": {},
   "outputs": [
    {
     "data": {
      "text/plain": [
       "((4096, 12),\n",
       " array([[0.13510049, 0.26102583, 0.12592534, ..., 0.35105642, 0.21603225,\n",
       "         0.18008271],\n",
       "        [0.15469062, 0.29953873, 0.14484811, ..., 0.40262598, 0.24769885,\n",
       "         0.20639324],\n",
       "        [0.14869104, 0.28512127, 0.13643023, ..., 0.38359708, 0.2361912 ,\n",
       "         0.19682471],\n",
       "        ...,\n",
       "        [0.        , 0.        , 0.        , ..., 0.        , 0.        ,\n",
       "         0.        ],\n",
       "        [0.        , 0.        , 0.        , ..., 0.        , 0.        ,\n",
       "         0.        ],\n",
       "        [0.        , 0.        , 0.        , ..., 0.        , 0.        ,\n",
       "         0.        ]]))"
      ]
     },
     "execution_count": 10,
     "metadata": {},
     "output_type": "execute_result"
    }
   ],
   "source": [
    "i = 12581\n",
    "hdf5_file['tracings'][i].shape, hdf5_file['tracings'][i]"
   ]
  },
  {
   "cell_type": "code",
   "execution_count": 11,
   "metadata": {},
   "outputs": [
    {
     "data": {
      "text/plain": [
       "[<matplotlib.lines.Line2D at 0x7efdb58cc9a0>]"
      ]
     },
     "execution_count": 11,
     "metadata": {},
     "output_type": "execute_result"
    },
    {
     "data": {
      "image/png": "[encoded data removed]",
      "text/plain": [
       "<Figure size 640x480 with 1 Axes>"
      ]
     },
     "metadata": {},
     "output_type": "display_data"
    }
   ],
   "source": [
    "plt.plot(hdf5_file['tracings'][i, :, 0])"
   ]
  },
  {
   "cell_type": "code",
   "execution_count": 12,
   "metadata": {},
   "outputs": [],
   "source": [
    "hdf5_file.close()"
   ]
  }
 ],
 "metadata": {
  "kernelspec": {
   "display_name": "clip",
   "language": "python",
   "name": "python3"
  },
  "language_info": {
   "codemirror_mode": {
    "name": "ipython",
    "version": 3
   },
   "file_extension": ".py",
   "mimetype": "text/x-python",
   "name": "python",
   "nbconvert_exporter": "python",
   "pygments_lexer": "ipython3",
   "version": "3.8.8"
  }
 },
 "nbformat": 4,
 "nbformat_minor": 2
}
